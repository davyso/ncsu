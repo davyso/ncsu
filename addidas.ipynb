{
 "cells": [
  {
   "cell_type": "code",
   "execution_count": 3,
   "metadata": {},
   "outputs": [],
   "source": [
    "import pandas as pd\n",
    "import numpy as np"
   ]
  },
  {
   "cell_type": "code",
   "execution_count": 4,
   "metadata": {},
   "outputs": [],
   "source": [
    "addidas = pd.read_csv('./addidas_full.csv')"
   ]
  },
  {
   "cell_type": "code",
   "execution_count": 5,
   "metadata": {},
   "outputs": [
    {
     "data": {
      "text/html": [
       "<div>\n",
       "<style scoped>\n",
       "    .dataframe tbody tr th:only-of-type {\n",
       "        vertical-align: middle;\n",
       "    }\n",
       "\n",
       "    .dataframe tbody tr th {\n",
       "        vertical-align: top;\n",
       "    }\n",
       "\n",
       "    .dataframe thead th {\n",
       "        text-align: right;\n",
       "    }\n",
       "</style>\n",
       "<table border=\"1\" class=\"dataframe\">\n",
       "  <thead>\n",
       "    <tr style=\"text-align: right;\">\n",
       "      <th></th>\n",
       "      <th>Unnamed: 0</th>\n",
       "      <th>Order#</th>\n",
       "      <th>Carton#</th>\n",
       "      <th>Units</th>\n",
       "      <th>SKU</th>\n",
       "      <th>SOLD_TO</th>\n",
       "      <th>SHIPTO_ZIP</th>\n",
       "      <th>CREATE_DATE_TIME</th>\n",
       "      <th>DIVISION</th>\n",
       "      <th>Date</th>\n",
       "      <th>Day</th>\n",
       "      <th>Hour</th>\n",
       "      <th>DayofWeek</th>\n",
       "      <th>Week</th>\n",
       "      <th>Week_ending</th>\n",
       "      <th>3ZIP</th>\n",
       "    </tr>\n",
       "  </thead>\n",
       "  <tbody>\n",
       "    <tr>\n",
       "      <th>0</th>\n",
       "      <td>0</td>\n",
       "      <td>E11364536</td>\n",
       "      <td>980900433424831</td>\n",
       "      <td>1</td>\n",
       "      <td>12056838</td>\n",
       "      <td>ECOM</td>\n",
       "      <td>11050</td>\n",
       "      <td>12/28/2016 21:16:02</td>\n",
       "      <td>APP</td>\n",
       "      <td>2016-12-28 21:16:02</td>\n",
       "      <td>2016-12-28</td>\n",
       "      <td>21</td>\n",
       "      <td>Wednesday</td>\n",
       "      <td>52</td>\n",
       "      <td>2016-12-30</td>\n",
       "      <td>110</td>\n",
       "    </tr>\n",
       "    <tr>\n",
       "      <th>1</th>\n",
       "      <td>1</td>\n",
       "      <td>E11364542</td>\n",
       "      <td>980900433428570</td>\n",
       "      <td>1</td>\n",
       "      <td>11458754</td>\n",
       "      <td>ECOM</td>\n",
       "      <td>11385</td>\n",
       "      <td>12/28/2016 21:16:02</td>\n",
       "      <td>APP</td>\n",
       "      <td>2016-12-28 21:16:02</td>\n",
       "      <td>2016-12-28</td>\n",
       "      <td>21</td>\n",
       "      <td>Wednesday</td>\n",
       "      <td>52</td>\n",
       "      <td>2016-12-30</td>\n",
       "      <td>113</td>\n",
       "    </tr>\n",
       "    <tr>\n",
       "      <th>2</th>\n",
       "      <td>2</td>\n",
       "      <td>E11378556</td>\n",
       "      <td>980900433486211</td>\n",
       "      <td>1</td>\n",
       "      <td>11564403</td>\n",
       "      <td>ECOM</td>\n",
       "      <td>92553</td>\n",
       "      <td>12/29/2016 13:46:02</td>\n",
       "      <td>APP</td>\n",
       "      <td>2016-12-29 13:46:02</td>\n",
       "      <td>2016-12-29</td>\n",
       "      <td>13</td>\n",
       "      <td>Thursday</td>\n",
       "      <td>52</td>\n",
       "      <td>2016-12-30</td>\n",
       "      <td>925</td>\n",
       "    </tr>\n",
       "    <tr>\n",
       "      <th>3</th>\n",
       "      <td>3</td>\n",
       "      <td>E11389293</td>\n",
       "      <td>980900433625436</td>\n",
       "      <td>1</td>\n",
       "      <td>10727437</td>\n",
       "      <td>ECOM</td>\n",
       "      <td>7030</td>\n",
       "      <td>12/30/2016 3:58:02</td>\n",
       "      <td>APP</td>\n",
       "      <td>2016-12-30 03:58:02</td>\n",
       "      <td>2016-12-30</td>\n",
       "      <td>3</td>\n",
       "      <td>Friday</td>\n",
       "      <td>52</td>\n",
       "      <td>2017-01-06</td>\n",
       "      <td>70</td>\n",
       "    </tr>\n",
       "    <tr>\n",
       "      <th>4</th>\n",
       "      <td>4</td>\n",
       "      <td>E11380841</td>\n",
       "      <td>980900433628093</td>\n",
       "      <td>1</td>\n",
       "      <td>11919739</td>\n",
       "      <td>ECOM</td>\n",
       "      <td>92620</td>\n",
       "      <td>12/29/2016 17:17:55</td>\n",
       "      <td>APP</td>\n",
       "      <td>2016-12-29 17:17:55</td>\n",
       "      <td>2016-12-29</td>\n",
       "      <td>17</td>\n",
       "      <td>Thursday</td>\n",
       "      <td>52</td>\n",
       "      <td>2016-12-30</td>\n",
       "      <td>926</td>\n",
       "    </tr>\n",
       "  </tbody>\n",
       "</table>\n",
       "</div>"
      ],
      "text/plain": [
       "   Unnamed: 0     Order#          Carton#  Units       SKU SOLD_TO  \\\n",
       "0           0  E11364536  980900433424831      1  12056838    ECOM   \n",
       "1           1  E11364542  980900433428570      1  11458754    ECOM   \n",
       "2           2  E11378556  980900433486211      1  11564403    ECOM   \n",
       "3           3  E11389293  980900433625436      1  10727437    ECOM   \n",
       "4           4  E11380841  980900433628093      1  11919739    ECOM   \n",
       "\n",
       "   SHIPTO_ZIP     CREATE_DATE_TIME DIVISION                 Date         Day  \\\n",
       "0       11050  12/28/2016 21:16:02      APP  2016-12-28 21:16:02  2016-12-28   \n",
       "1       11385  12/28/2016 21:16:02      APP  2016-12-28 21:16:02  2016-12-28   \n",
       "2       92553  12/29/2016 13:46:02      APP  2016-12-29 13:46:02  2016-12-29   \n",
       "3        7030   12/30/2016 3:58:02      APP  2016-12-30 03:58:02  2016-12-30   \n",
       "4       92620  12/29/2016 17:17:55      APP  2016-12-29 17:17:55  2016-12-29   \n",
       "\n",
       "   Hour  DayofWeek  Week Week_ending  3ZIP  \n",
       "0    21  Wednesday    52  2016-12-30   110  \n",
       "1    21  Wednesday    52  2016-12-30   113  \n",
       "2    13   Thursday    52  2016-12-30   925  \n",
       "3     3     Friday    52  2017-01-06    70  \n",
       "4    17   Thursday    52  2016-12-30   926  "
      ]
     },
     "execution_count": 5,
     "metadata": {},
     "output_type": "execute_result"
    }
   ],
   "source": [
    "addidas.head()"
   ]
  },
  {
   "cell_type": "code",
   "execution_count": null,
   "metadata": {},
   "outputs": [],
   "source": [
    "# new column: region\n",
    "# r1 = zips 20000\n",
    "# r2 = zips 20000-40000\n",
    "# r3 = zips > 40000"
   ]
  },
  {
   "cell_type": "code",
   "execution_count": 6,
   "metadata": {},
   "outputs": [
    {
     "data": {
      "text/plain": [
       "5644365"
      ]
     },
     "execution_count": 6,
     "metadata": {},
     "output_type": "execute_result"
    }
   ],
   "source": [
    "len(addidas)"
   ]
  },
  {
   "cell_type": "code",
   "execution_count": 75,
   "metadata": {},
   "outputs": [
    {
     "data": {
      "text/html": [
       "<div>\n",
       "<style scoped>\n",
       "    .dataframe tbody tr th:only-of-type {\n",
       "        vertical-align: middle;\n",
       "    }\n",
       "\n",
       "    .dataframe tbody tr th {\n",
       "        vertical-align: top;\n",
       "    }\n",
       "\n",
       "    .dataframe thead th {\n",
       "        text-align: right;\n",
       "    }\n",
       "</style>\n",
       "<table border=\"1\" class=\"dataframe\">\n",
       "  <thead>\n",
       "    <tr style=\"text-align: right;\">\n",
       "      <th></th>\n",
       "      <th>OrdersIn</th>\n",
       "    </tr>\n",
       "    <tr>\n",
       "      <th>SKU</th>\n",
       "      <th></th>\n",
       "    </tr>\n",
       "  </thead>\n",
       "  <tbody>\n",
       "    <tr>\n",
       "      <th>3857515</th>\n",
       "      <td>1</td>\n",
       "    </tr>\n",
       "    <tr>\n",
       "      <th>3857516</th>\n",
       "      <td>1</td>\n",
       "    </tr>\n",
       "    <tr>\n",
       "      <th>3857518</th>\n",
       "      <td>1</td>\n",
       "    </tr>\n",
       "    <tr>\n",
       "      <th>3857519</th>\n",
       "      <td>1</td>\n",
       "    </tr>\n",
       "    <tr>\n",
       "      <th>3857565</th>\n",
       "      <td>1</td>\n",
       "    </tr>\n",
       "  </tbody>\n",
       "</table>\n",
       "</div>"
      ],
      "text/plain": [
       "         OrdersIn\n",
       "SKU              \n",
       "3857515         1\n",
       "3857516         1\n",
       "3857518         1\n",
       "3857519         1\n",
       "3857565         1"
      ]
     },
     "execution_count": 75,
     "metadata": {},
     "output_type": "execute_result"
    }
   ],
   "source": [
    "# Number of orders each SKU is in\n",
    "orders_in = addidas.groupby('SKU')[['Order#']].count().rename(columns={'Order#':'OrdersIn'})\n",
    "orders_in.head()"
   ]
  },
  {
   "cell_type": "code",
   "execution_count": 107,
   "metadata": {},
   "outputs": [
    {
     "data": {
      "text/html": [
       "<div>\n",
       "<style scoped>\n",
       "    .dataframe tbody tr th:only-of-type {\n",
       "        vertical-align: middle;\n",
       "    }\n",
       "\n",
       "    .dataframe tbody tr th {\n",
       "        vertical-align: top;\n",
       "    }\n",
       "\n",
       "    .dataframe thead th {\n",
       "        text-align: right;\n",
       "    }\n",
       "</style>\n",
       "<table border=\"1\" class=\"dataframe\">\n",
       "  <thead>\n",
       "    <tr style=\"text-align: right;\">\n",
       "      <th></th>\n",
       "      <th>Region</th>\n",
       "      <th>Avg Units/Order</th>\n",
       "      <th>Total Average Units (%)</th>\n",
       "      <th>Total Unique Order (%)</th>\n",
       "    </tr>\n",
       "  </thead>\n",
       "  <tbody>\n",
       "    <tr>\n",
       "      <th>0</th>\n",
       "      <td>R1</td>\n",
       "      <td>1.47</td>\n",
       "      <td>0.49</td>\n",
       "      <td>0.49</td>\n",
       "    </tr>\n",
       "    <tr>\n",
       "      <th>1</th>\n",
       "      <td>R2</td>\n",
       "      <td>1.39</td>\n",
       "      <td>0.19</td>\n",
       "      <td>0.19</td>\n",
       "    </tr>\n",
       "    <tr>\n",
       "      <th>2</th>\n",
       "      <td>R3</td>\n",
       "      <td>1.50</td>\n",
       "      <td>0.32</td>\n",
       "      <td>0.32</td>\n",
       "    </tr>\n",
       "  </tbody>\n",
       "</table>\n",
       "</div>"
      ],
      "text/plain": [
       "  Region  Avg Units/Order  Total Average Units (%)  Total Unique Order (%)\n",
       "0     R1             1.47                     0.49                    0.49\n",
       "1     R2             1.39                     0.19                    0.19\n",
       "2     R3             1.50                     0.32                    0.32"
      ]
     },
     "execution_count": 107,
     "metadata": {},
     "output_type": "execute_result"
    }
   ],
   "source": [
    "# Region-based metric\n",
    "region1_df = addidas[addidas['SHIPTO_ZIP'] < 50000]\n",
    "r1_total_units = region1_df['Units'].sum()\n",
    "r1_num_unique_ord = len(region1_df['Order#'].unique())\n",
    "r1_avg_units = r1_total_units/r1_num_unique_ord\n",
    "\n",
    "\n",
    "region2_df = addidas[(addidas['SHIPTO_ZIP']>=50000) & (addidas['SHIPTO_ZIP']<80000)]\n",
    "r2_total_units = region2_df['Units'].sum()\n",
    "r2_num_unique_ord = len(region2_df['Order#'].unique())\n",
    "r2_avg_units = r2_total_units/r2_num_unique_ord\n",
    "\n",
    "\n",
    "region3_df = addidas[addidas['SHIPTO_ZIP'] >= 80000]\n",
    "r3_total_units = region3_df['Units'].sum()\n",
    "r3_num_unique_ord = len(region3_df['Order#'].unique())\n",
    "r3_avg_units = r3_total_units/r3_num_unique_ord\n",
    "\n",
    "\n",
    "total_unq_ord = r1_num_unique_ord + r2_num_unique_ord + r3_num_unique_ord\n",
    "total_avg_units = r1_total_units + r2_total_units + r3_total_units\n",
    "\n",
    "\n",
    "data = {\n",
    "    'Region':['R1','R2','R3'],\n",
    "    'Avg Units/Order':[round(r1_avg_units,2), round(r2_avg_units,2), round(r3_avg_units,2)],\n",
    "    'Total Unique Order (%)':[\n",
    "        round(r1_num_unique_ord/total_unq_ord,2), \n",
    "        round(r2_num_unique_ord/total_unq_ord,2), \n",
    "        round(r3_num_unique_ord/total_unq_ord,2)],\n",
    "    'Total Average Units (%)':[\n",
    "        round(r1_total_units/total_avg_units,2), \n",
    "        round(r2_total_units/total_avg_units,2), \n",
    "        round(r3_total_units/total_avg_units,2)]\n",
    "}\n",
    "\n",
    "regions_df = pd.DataFrame(data, columns=data.keys())\n",
    "\n",
    "regions_df"
   ]
  },
  {
   "cell_type": "code",
   "execution_count": 108,
   "metadata": {},
   "outputs": [],
   "source": [
    "# Region identity\n",
    "region_identity_df = pd.DataFrame({\n",
    "    'region':addidas['SHIPTO_ZIP'].astype(str).str.zfill(5),\n",
    "    'value':None\n",
    "})\n"
   ]
  },
  {
   "cell_type": "code",
   "execution_count": 109,
   "metadata": {},
   "outputs": [],
   "source": [
    "zip_as_int = region_identity_df['region'].astype(np.int64)\n",
    "region_identity_df.loc[zip_as_int < 50000,'value'] = 0\n",
    "region_identity_df.loc[(zip_as_int >= 50000) & (zip_as_int < 80000), 'value'] = 1\n",
    "region_identity_df.loc[zip_as_int >= 80000,'value'] = 2\n",
    "\n",
    "region_identity_df = region_identity_df.drop_duplicates(subset=['region'])"
   ]
  },
  {
   "cell_type": "code",
   "execution_count": 110,
   "metadata": {},
   "outputs": [
    {
     "data": {
      "text/html": [
       "<div>\n",
       "<style scoped>\n",
       "    .dataframe tbody tr th:only-of-type {\n",
       "        vertical-align: middle;\n",
       "    }\n",
       "\n",
       "    .dataframe tbody tr th {\n",
       "        vertical-align: top;\n",
       "    }\n",
       "\n",
       "    .dataframe thead th {\n",
       "        text-align: right;\n",
       "    }\n",
       "</style>\n",
       "<table border=\"1\" class=\"dataframe\">\n",
       "  <thead>\n",
       "    <tr style=\"text-align: right;\">\n",
       "      <th></th>\n",
       "      <th>region</th>\n",
       "      <th>value</th>\n",
       "    </tr>\n",
       "  </thead>\n",
       "  <tbody>\n",
       "    <tr>\n",
       "      <th>0</th>\n",
       "      <td>11050</td>\n",
       "      <td>0</td>\n",
       "    </tr>\n",
       "    <tr>\n",
       "      <th>1</th>\n",
       "      <td>11385</td>\n",
       "      <td>0</td>\n",
       "    </tr>\n",
       "    <tr>\n",
       "      <th>2</th>\n",
       "      <td>92553</td>\n",
       "      <td>2</td>\n",
       "    </tr>\n",
       "    <tr>\n",
       "      <th>3</th>\n",
       "      <td>07030</td>\n",
       "      <td>0</td>\n",
       "    </tr>\n",
       "    <tr>\n",
       "      <th>4</th>\n",
       "      <td>92620</td>\n",
       "      <td>2</td>\n",
       "    </tr>\n",
       "  </tbody>\n",
       "</table>\n",
       "</div>"
      ],
      "text/plain": [
       "  region value\n",
       "0  11050     0\n",
       "1  11385     0\n",
       "2  92553     2\n",
       "3  07030     0\n",
       "4  92620     2"
      ]
     },
     "execution_count": 110,
     "metadata": {},
     "output_type": "execute_result"
    }
   ],
   "source": [
    "region_identity_df.head()"
   ]
  },
  {
   "cell_type": "code",
   "execution_count": 111,
   "metadata": {},
   "outputs": [],
   "source": [
    "# Create CSVs\n",
    "regions_df.to_csv(\"region_metrics.csv\", index=False)\n",
    "region_identity_df.to_csv(\"region_identity.csv\")"
   ]
  },
  {
   "cell_type": "code",
   "execution_count": 106,
   "metadata": {},
   "outputs": [
    {
     "data": {
      "text/plain": [
       "31931"
      ]
     },
     "execution_count": 106,
     "metadata": {},
     "output_type": "execute_result"
    }
   ],
   "source": [
    "len(region_identity_df)"
   ]
  },
  {
   "cell_type": "code",
   "execution_count": null,
   "metadata": {},
   "outputs": [],
   "source": []
  },
  {
   "cell_type": "code",
   "execution_count": null,
   "metadata": {},
   "outputs": [],
   "source": []
  }
 ],
 "metadata": {
  "kernelspec": {
   "display_name": "Python 3",
   "language": "python",
   "name": "python3"
  },
  "language_info": {
   "codemirror_mode": {
    "name": "ipython",
    "version": 3
   },
   "file_extension": ".py",
   "mimetype": "text/x-python",
   "name": "python",
   "nbconvert_exporter": "python",
   "pygments_lexer": "ipython3",
   "version": "3.5.5"
  }
 },
 "nbformat": 4,
 "nbformat_minor": 2
}
